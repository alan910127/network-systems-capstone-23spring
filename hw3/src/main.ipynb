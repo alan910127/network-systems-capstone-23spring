{
 "cells": [
  {
   "attachments": {},
   "cell_type": "markdown",
   "metadata": {},
   "source": [
    "# Network System Capstone Homework 3"
   ]
  },
  {
   "attachments": {},
   "cell_type": "markdown",
   "metadata": {},
   "source": [
    "## Import modules"
   ]
  },
  {
   "cell_type": "code",
   "execution_count": null,
   "metadata": {},
   "outputs": [],
   "source": [
    "from __future__ import annotations\n",
    "\n",
    "import statistics\n",
    "\n",
    "import matplotlib.pyplot as plt # type: ignore\n",
    "import protocols\n",
    "from setting import Setting\n",
    "\n",
    "ALL_PROTOCOLS = (\n",
    "    protocols.aloha,\n",
    "    protocols.slotted_aloha,\n",
    "    protocols.csma,\n",
    "    protocols.csma_cd,\n",
    ")"
   ]
  },
  {
   "attachments": {},
   "cell_type": "markdown",
   "metadata": {},
   "source": [
    "## Code Test"
   ]
  },
  {
   "cell_type": "code",
   "execution_count": null,
   "metadata": {},
   "outputs": [],
   "source": [
    "def create_setting() -> Setting:\n",
    "    return Setting(\n",
    "        host_num=3,\n",
    "        total_time=100,\n",
    "        packet_num=4,\n",
    "        max_colision_wait_time=20,\n",
    "        p_resend=0.3,\n",
    "        packet_size=3,\n",
    "        link_delay=1,\n",
    "        seed=109652039,\n",
    "    )\n",
    "\n",
    "\n",
    "for protocol in ALL_PROTOCOLS:\n",
    "    success_rate, idle_rate, collision_rate = protocol(create_setting(), True)\n",
    "    print(f\"success_rate: {success_rate:.2f}\")\n",
    "    print(f\"idle_rate: {idle_rate:.2f}\")\n",
    "    print(f\"collision_rate: {collision_rate:.2f}\")\n",
    "    print()"
   ]
  },
  {
   "attachments": {},
   "cell_type": "markdown",
   "metadata": {},
   "source": [
    "## Questions"
   ]
  },
  {
   "attachments": {},
   "cell_type": "markdown",
   "metadata": {},
   "source": [
    "### Common Operations"
   ]
  },
  {
   "cell_type": "code",
   "execution_count": null,
   "metadata": {},
   "outputs": [],
   "source": [
    "from typing import Iterable, Callable\n",
    "\n",
    "\n",
    "def run_simulation(get_setting: Callable[[], Setting]):\n",
    "    results: dict[str, tuple[float, float, float]] = {}\n",
    "    \n",
    "    for protocol in ALL_PROTOCOLS:\n",
    "        simulation_result = [protocol(get_setting(), False) for _ in range(100)]\n",
    "        \n",
    "        success_rate = statistics.mean(r[0] for r in simulation_result)\n",
    "        idle_rate = statistics.mean(r[1] for r in simulation_result)\n",
    "        collision_rate = statistics.mean(r[2] for r in simulation_result)\n",
    "\n",
    "        results[protocol.__name__] = (success_rate, idle_rate, collision_rate)\n",
    "\n",
    "    return results\n",
    "\n",
    "\n",
    "def plot_performance_chart(title: str, x: Iterable[int], x_label: str, results: dict[str, list[tuple[float, float, float]]], accurate_x: bool = False):\n",
    "    for index, label in enumerate((\"Success Rate\", \"Idle Rate\", \"Collision Rate\")):\n",
    "        plt.title(title) # type: ignore\n",
    "        plt.xlabel(x_label)  # type: ignore\n",
    "        plt.ylabel(label) # type: ignore\n",
    "        plt.plot(x, [r[index] for r in results[\"aloha\"]], marker=\"x\", markersize=5) # type: ignore\n",
    "        plt.plot(x, [r[index] for r in results[\"slotted_aloha\"]], marker=\"s\", markersize=5) # type: ignore\n",
    "        plt.plot(x, [r[index] for r in results[\"csma\"]], marker=\"^\", markersize=5) # type: ignore\n",
    "        plt.plot(x, [r[index] for r in results[\"csma_cd\"]], marker=\"o\", markersize=5) # type: ignore\n",
    "        if accurate_x:\n",
    "            plt.xticks(x) # type: ignore\n",
    "        plt.legend((\"ALOHA\", \"Slotted ALOHA\", \"CSMA\", \"CSMA/CD\")) # type: ignore\n",
    "        plt.show() # type: ignore"
   ]
  },
  {
   "attachments": {},
   "cell_type": "markdown",
   "metadata": {},
   "source": [
    "### Question 1\n",
    "\n",
    "Apply the following settings in all methods and plot the results. (2%)\n",
    "- host_num_list = [2,3,4,6]\n",
    "- packet_num_list = [1200,800,600,400] (To ensure that the total number of packets remains constant.)\n",
    "- Setting(host_num=h, packet_num=p, max_colision_wait_time=20, p_resend=0.3) for h,p in zip(host_num_list, packet_num_list)"
   ]
  },
  {
   "cell_type": "code",
   "execution_count": null,
   "metadata": {},
   "outputs": [],
   "source": [
    "host_num_list = (2, 3, 4, 6)\n",
    "packet_num_list = (1200, 800, 600, 400)\n",
    "results: dict[str, list[tuple[float, float, float]]] = {}\n",
    "\n",
    "\n",
    "def create_setting(h: int, p: int) -> Setting:\n",
    "    return Setting(\n",
    "        host_num=h,\n",
    "        packet_num=p,\n",
    "        max_colision_wait_time=20,\n",
    "        p_resend=0.3,\n",
    "        seed=20230404,\n",
    "    )\n",
    "\n",
    "\n",
    "for h, p in zip(host_num_list, packet_num_list):\n",
    "    result = run_simulation(lambda: create_setting(h, p))\n",
    "    for protocol in ALL_PROTOCOLS:\n",
    "        results.setdefault(protocol.__name__, []).append(result[protocol.__name__])\n",
    "\n",
    "plot_performance_chart(\n",
    "    title=\"Influence of Host Number\",\n",
    "    x=host_num_list,\n",
    "    x_label=\"Host Number\",\n",
    "    results=results,\n",
    "    accurate_x=True,\n",
    ")"
   ]
  },
  {
   "attachments": {},
   "cell_type": "markdown",
   "metadata": {},
   "source": [
    "### Question 2\n",
    "\n",
    "Define two expressions, one for calculating `max_colision_wait_time` and another for calculating `p_resend`, which should both include a coefficient parameter c ≥ 1 and other parameters. Write down the expressions in your report and modify the `Setting` class accordingly. (The subsequent questions 3~8 will be based on this new setting.) (2%)\n",
    "\n",
    "- `max_colision_wait_time = ? * c` (Hint: Two parameters)\n",
    "- `p_resend = ? / c` (Hint: One parameter)"
   ]
  },
  {
   "attachments": {},
   "cell_type": "markdown",
   "metadata": {},
   "source": [
    "- `max_colision_wait_time = host_num * packet_size * coefficient`\n",
    "- `p_resend = 1 / (host_num * coefficient)`"
   ]
  },
  {
   "attachments": {},
   "cell_type": "markdown",
   "metadata": {},
   "source": [
    "### Question 3\n",
    "\n",
    "Redo the simulations from question 1 using the updated settings for all methods. Plot the results and describe the influence of using these expressions. (8%)\n",
    "\n",
    "- host_num_list = [2,3,4,6]\n",
    "- packet_num_list = [1200,800,600,400]\n",
    "- Setting(host_num=h, packet_num=p, coefficient=1) for h,p in zip(host_num_list, packet_num_list)"
   ]
  },
  {
   "cell_type": "code",
   "execution_count": null,
   "metadata": {},
   "outputs": [],
   "source": [
    "def create_setting(h: int, p: int) -> Setting:\n",
    "    return Setting(\n",
    "        host_num=h,\n",
    "        packet_num=p,\n",
    "        coefficient=1,\n",
    "    )\n",
    "\n",
    "\n",
    "host_num_list = (2, 3, 4, 6)\n",
    "packet_num_list = (1200, 800, 600, 400)\n",
    "results: dict[str, list[tuple[float, float, float]]] = {}\n",
    "\n",
    "for h, p in zip(host_num_list, packet_num_list):\n",
    "    result = run_simulation(lambda: create_setting(h, p))\n",
    "    for protocol in ALL_PROTOCOLS:\n",
    "        results.setdefault(protocol.__name__, []).append(result[protocol.__name__])\n",
    "\n",
    "plot_performance_chart(\n",
    "    title=\"Influence of Host Number\",\n",
    "    x=host_num_list,\n",
    "    x_label=\"Host Number\",\n",
    "    results=results,\n",
    "    accurate_x=True,\n",
    ")"
   ]
  },
  {
   "attachments": {},
   "cell_type": "markdown",
   "metadata": {},
   "source": [
    "### Question 4\n",
    "\n",
    "What’s the influence of “coefficient” in all methods. Apply the following settings, plot the results, and describe them. (8%)\n",
    "\n",
    "- Setting(coefficient=c) for c in range(start=1, stop=31, step=1)"
   ]
  },
  {
   "cell_type": "code",
   "execution_count": null,
   "metadata": {},
   "outputs": [],
   "source": [
    "def create_setting(c: int) -> Setting:\n",
    "    return Setting(coefficient=c)\n",
    "\n",
    "\n",
    "results: dict[str, list[tuple[float, float, float]]] = {}\n",
    "\n",
    "for c in range(1, 31):\n",
    "    result = run_simulation(lambda: create_setting(c))\n",
    "    for protocol in ALL_PROTOCOLS:\n",
    "        results.setdefault(protocol.__name__, []).append(result[protocol.__name__])\n",
    "\n",
    "\n",
    "plot_performance_chart(\n",
    "    title=\"Influence of Coefficient\",\n",
    "    x=range(1, 31),\n",
    "    x_label=\"Coefficient\",\n",
    "    results=results,\n",
    ")"
   ]
  },
  {
   "attachments": {},
   "cell_type": "markdown",
   "metadata": {},
   "source": [
    "### Question 5\n",
    "\n",
    "What’s the influence of “packet_num” in all methods. Apply the following settings, plot the results, and describe them. (10%)\n",
    "- Setting(packet_num=p) for p in range(start=100, stop=1050, step=50)"
   ]
  },
  {
   "cell_type": "code",
   "execution_count": null,
   "metadata": {},
   "outputs": [],
   "source": [
    "def create_setting(p: int) -> Setting:\n",
    "    return Setting(packet_num=p)\n",
    "\n",
    "\n",
    "results: dict[str, list[tuple[float, float, float]]] = {}\n",
    "\n",
    "for p in range(100, 1050, 50):\n",
    "    result = run_simulation(lambda: create_setting(p))\n",
    "    for protocol in ALL_PROTOCOLS:\n",
    "        results.setdefault(protocol.__name__, []).append(result[protocol.__name__])\n",
    "\n",
    "\n",
    "plot_performance_chart(\n",
    "    title=\"Influence of Packet Number\",\n",
    "    x=range(100, 1050, 50),\n",
    "    x_label=\"Packet Number\",\n",
    "    results=results,\n",
    ")"
   ]
  },
  {
   "attachments": {},
   "cell_type": "markdown",
   "metadata": {},
   "source": [
    "### Question 6\n",
    "\n",
    "What’s the influence of “host_num” in all methods. Apply the following settings, plot the results, and describe them. (10%)\n",
    "- Setting(host_num=h) for h in range(start=1, stop=11, step=1)"
   ]
  },
  {
   "cell_type": "code",
   "execution_count": null,
   "metadata": {},
   "outputs": [],
   "source": [
    "def create_setting(h: int) -> Setting:\n",
    "    return Setting(host_num=h)\n",
    "\n",
    "\n",
    "results: dict[str, list[tuple[float, float, float]]] = {}\n",
    "\n",
    "for h in range(1, 11):\n",
    "    result = run_simulation(lambda: create_setting(h))\n",
    "    for protocol in ALL_PROTOCOLS:\n",
    "        results.setdefault(protocol.__name__, []).append(result[protocol.__name__])\n",
    "\n",
    "\n",
    "plot_performance_chart(\n",
    "    title=\"Influence of Host Number\",\n",
    "    x=range(1, 11),\n",
    "    x_label=\"Host Number\",\n",
    "    results=results,\n",
    ")"
   ]
  },
  {
   "attachments": {},
   "cell_type": "markdown",
   "metadata": {},
   "source": [
    "### Question 7\n",
    "\n",
    "What’s the influence of “packet_size” in all methods. Apply the following settings, plot the results, and describe them. (10%)\n",
    "- Setting(packet_size=p) for p in range(start=1, stop=20, step=1)"
   ]
  },
  {
   "cell_type": "code",
   "execution_count": null,
   "metadata": {},
   "outputs": [],
   "source": [
    "def create_setting(p: int) -> Setting:\n",
    "    return Setting(packet_size=p)\n",
    "\n",
    "\n",
    "results: dict[str, list[tuple[float, float, float]]] = {}\n",
    "\n",
    "for p in range(1, 20):\n",
    "    result = run_simulation(lambda: create_setting(p))\n",
    "    for protocol in ALL_PROTOCOLS:\n",
    "        results.setdefault(protocol.__name__, []).append(result[protocol.__name__])\n",
    "\n",
    "\n",
    "plot_performance_chart(\n",
    "    title=\"Influence of Packet Size\",\n",
    "    x=range(1, 20),\n",
    "    x_label=\"Packet Size\",\n",
    "    results=results,\n",
    "    accurate_x=True,\n",
    ")"
   ]
  },
  {
   "attachments": {},
   "cell_type": "markdown",
   "metadata": {},
   "source": [
    "### Question 8\n",
    "\n",
    "What’s the influence of “link_delay” in CSMA and CSMA/CD? Apply the following settings, plot the results, and describe them. (10%)\n",
    "- link_delay= [0,1,2,3]\n",
    "- packet_size_list= [7,5,3,1] # To ensure that the packet_time remains constant.\n",
    "- Setting(link_delay=l, packet_siz=p) for l,p in zip(link_delay_list, packet_size_list)"
   ]
  },
  {
   "cell_type": "code",
   "execution_count": null,
   "metadata": {},
   "outputs": [],
   "source": [
    "def create_setting(l: int, p: int) -> Setting:\n",
    "    return Setting(\n",
    "        link_delay=l,\n",
    "        packet_size=p,\n",
    "    )\n",
    "\n",
    "\n",
    "link_delay_list = (0, 1, 2, 3)\n",
    "packet_size_list = (7, 5, 3, 1)\n",
    "results: dict[str, list[tuple[float, float, float]]] = {}\n",
    "\n",
    "for l, p in zip(link_delay_list, packet_size_list):\n",
    "    result: dict[str, tuple[float, float, float]] = {}\n",
    "    \n",
    "    for protocol in (protocols.csma, protocols.csma_cd):\n",
    "        simulation_result = [protocol(create_setting(l, p), False) for _ in range(100)]\n",
    "        \n",
    "        success_rate = statistics.mean(r[0] for r in simulation_result)\n",
    "        idle_rate = statistics.mean(r[1] for r in simulation_result)\n",
    "        collision_rate = statistics.mean(r[2] for r in simulation_result)\n",
    "\n",
    "        result[protocol.__name__] = (success_rate, idle_rate, collision_rate)\n",
    "\n",
    "    for protocol in (protocols.csma, protocols.csma_cd):\n",
    "        results.setdefault(protocol.__name__, []).append(result[protocol.__name__])\n",
    "\n",
    "for index, label in enumerate((\"Success Rate\", \"Idle Rate\", \"Collision Rate\")):\n",
    "    plt.title(\"Influence of Link Delay\") # type: ignore\n",
    "    plt.xlabel(\"Link Delay\")  # type: ignore\n",
    "    plt.ylabel(label) # type: ignore\n",
    "    plt.plot(link_delay_list, [r[index] for r in results[\"csma\"]], marker=\"^\", markersize=5) # type: ignore\n",
    "    plt.plot(link_delay_list, [r[index] for r in results[\"csma_cd\"]], marker=\"o\", markersize=5) # type: ignore\n",
    "    plt.xticks(link_delay_list) # type: ignore\n",
    "    plt.legend((\"CSMA\", \"CSMA/CD\")) # type: ignore\n",
    "    plt.show() # type: ignore"
   ]
  }
 ],
 "metadata": {
  "kernelspec": {
   "display_name": "Python 3",
   "language": "python",
   "name": "python3"
  },
  "language_info": {
   "codemirror_mode": {
    "name": "ipython",
    "version": 3
   },
   "file_extension": ".py",
   "mimetype": "text/x-python",
   "name": "python",
   "nbconvert_exporter": "python",
   "pygments_lexer": "ipython3",
   "version": "3.11.0rc1"
  },
  "orig_nbformat": 4
 },
 "nbformat": 4,
 "nbformat_minor": 2
}
